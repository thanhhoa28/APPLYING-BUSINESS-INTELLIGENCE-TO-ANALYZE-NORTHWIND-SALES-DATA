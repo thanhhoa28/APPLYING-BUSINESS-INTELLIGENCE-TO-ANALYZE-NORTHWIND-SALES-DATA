{
  "nbformat": 4,
  "nbformat_minor": 0,
  "metadata": {
    "colab": {
      "provenance": []
    },
    "kernelspec": {
      "name": "python3",
      "display_name": "Python 3"
    },
    "language_info": {
      "name": "python"
    }
  },
  "cells": [
    {
      "cell_type": "code",
      "execution_count": 1,
      "metadata": {
        "colab": {
          "base_uri": "https://localhost:8080/"
        },
        "id": "aTJXaSaNVLBX",
        "outputId": "7d0609cb-ca1a-4d47-cb76-558ce24f63be"
      },
      "outputs": [
        {
          "output_type": "stream",
          "name": "stdout",
          "text": [
            "Collecting ftfy\n",
            "  Downloading ftfy-6.3.1-py3-none-any.whl.metadata (7.3 kB)\n",
            "Collecting xlsxwriter\n",
            "  Downloading XlsxWriter-3.2.0-py3-none-any.whl.metadata (2.6 kB)\n",
            "Requirement already satisfied: wcwidth in /usr/local/lib/python3.10/dist-packages (from ftfy) (0.2.13)\n",
            "Downloading ftfy-6.3.1-py3-none-any.whl (44 kB)\n",
            "\u001b[2K   \u001b[90m━━━━━━━━━━━━━━━━━━━━━━━━━━━━━━━━━━━━━━━━\u001b[0m \u001b[32m44.8/44.8 kB\u001b[0m \u001b[31m1.6 MB/s\u001b[0m eta \u001b[36m0:00:00\u001b[0m\n",
            "\u001b[?25hDownloading XlsxWriter-3.2.0-py3-none-any.whl (159 kB)\n",
            "\u001b[2K   \u001b[90m━━━━━━━━━━━━━━━━━━━━━━━━━━━━━━━━━━━━━━━━\u001b[0m \u001b[32m159.9/159.9 kB\u001b[0m \u001b[31m6.2 MB/s\u001b[0m eta \u001b[36m0:00:00\u001b[0m\n",
            "\u001b[?25hInstalling collected packages: xlsxwriter, ftfy\n",
            "Successfully installed ftfy-6.3.1 xlsxwriter-3.2.0\n"
          ]
        }
      ],
      "source": [
        "!pip install ftfy xlsxwriter"
      ]
    },
    {
      "cell_type": "code",
      "source": [
        "# Download the file from Google Drive\n",
        "!gdown \"1LP_N3EZRC61nB0zaYNVMRWmmkHysmnlh\""
      ],
      "metadata": {
        "colab": {
          "base_uri": "https://localhost:8080/"
        },
        "id": "pM_faTTLJvwG",
        "outputId": "6f66f8f5-b274-49a1-9cad-0aac65affa98"
      },
      "execution_count": 2,
      "outputs": [
        {
          "output_type": "stream",
          "name": "stdout",
          "text": [
            "Downloading...\n",
            "From: https://drive.google.com/uc?id=1LP_N3EZRC61nB0zaYNVMRWmmkHysmnlh\n",
            "To: /content/Northwind Database.xlsx\n",
            "\r  0% 0.00/159k [00:00<?, ?B/s]\r100% 159k/159k [00:00<00:00, 24.0MB/s]\n"
          ]
        }
      ]
    },
    {
      "cell_type": "code",
      "source": [
        "import pandas as pd\n",
        "import ftfy\n",
        "\n",
        "# Hàm sửa lỗi mã hóa trong dataframe\n",
        "def fix_encoding_in_dataframe(df):\n",
        "    for col in df.columns:\n",
        "        df[col] = df[col].apply(lambda x: ftfy.fix_text(str(x)) if isinstance(x, str) else x)\n",
        "    return df\n",
        "\n",
        "# Đọc file Excel\n",
        "file_path = '/content/Northwind Database.xlsx'\n",
        "xls = pd.ExcelFile(file_path)\n",
        "\n",
        "# Dictionary để lưu các sheet đã sửa lỗi\n",
        "fixed_sheets = {}\n",
        "\n",
        "# Duyệt qua từng sheet trong file Excel\n",
        "for sheet_name in xls.sheet_names:\n",
        "    df = pd.read_excel(xls, sheet_name=sheet_name)\n",
        "    fixed_df = fix_encoding_in_dataframe(df)\n",
        "    fixed_sheets[sheet_name] = fixed_df\n",
        "\n",
        "# Lưu file Excel\n",
        "output_file_path = 'Northwind Database.xlsx'\n",
        "with pd.ExcelWriter(output_file_path, engine='xlsxwriter') as writer:\n",
        "    for sheet_name, df in fixed_sheets.items():\n",
        "        df.to_excel(writer, sheet_name=sheet_name, index=False)\n",
        "        # Lấy workbook và worksheet để tùy chỉnh định dạng\n",
        "        workbook = writer.book\n",
        "        worksheet = writer.sheets[sheet_name]\n",
        "        header_format = workbook.add_format({'bold': False, 'border': 0})\n",
        "        for col_num, value in enumerate(df.columns.values):\n",
        "            worksheet.write(0, col_num, value, header_format)\n",
        "\n",
        "print(f\"File đã sửa lỗi được lưu tại: {output_file_path}\")\n"
      ],
      "metadata": {
        "colab": {
          "base_uri": "https://localhost:8080/"
        },
        "id": "7TIKgXM9VlcJ",
        "outputId": "e2e52799-ab77-492f-e4cd-92a6350e0b48"
      },
      "execution_count": 3,
      "outputs": [
        {
          "output_type": "stream",
          "name": "stdout",
          "text": [
            "File đã sửa lỗi được lưu tại: Northwind Database.xlsx\n"
          ]
        }
      ]
    }
  ]
}